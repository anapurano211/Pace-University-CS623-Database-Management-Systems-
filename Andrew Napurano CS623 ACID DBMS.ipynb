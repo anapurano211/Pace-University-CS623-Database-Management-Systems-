{
 "cells": [
  {
   "cell_type": "code",
   "execution_count": 70,
   "id": "66f1b9c3",
   "metadata": {},
   "outputs": [],
   "source": [
    "#import connection library for postgres\n",
    "import psycopg2\n",
    "from tabulate import tabulate\n",
    "\n",
    "\n",
    "# connect to postgress and begin function for database setup/transactions\n",
    "def acid_transactions(postgres_calls):\n",
    "    print(\"Beggining\")\n",
    "    con = psycopg2.connect(\n",
    "    host=\"localhost\",\n",
    "    database=\"CS623\",\n",
    "    user=\"postgres\",\n",
    "    password=\"CSDBMS623\")\n",
    "    \n",
    "    print(con)\n",
    "     #isolation Serializable\n",
    "    con.set_isolation_level(3)\n",
    "     #atomocity\n",
    "    con.autocommit=False\n",
    "  \n",
    "    try:\n",
    "        #set cursor object in variable\n",
    "        cur = con.cursor()\n",
    "        # for all the database calls/table creations/transactions, cursor will execute\n",
    "        for call in postgres_calls:\n",
    "            cur.execute(call)\n",
    "            \n",
    "         # commit the transaction  if there is an error and print the error so programmer is aware \n",
    "    except (Exception, psycopg2.DatabaseError) as err:\n",
    "        print(err)\n",
    "        print(\"Transactions could not be completed so database will be rolled back before start of transactions\")\n",
    "        #rollback \n",
    "        con.rollback()\n",
    "        \n",
    "    finally:\n",
    "        if con:\n",
    "            con.commit()\n",
    "            #close connection once finished\n",
    "            cur.close\n",
    "            con.close\n",
    "            print(\"PostgreSQL connection is now closed\")\n",
    "            print(\"End\")"
   ]
  },
  {
   "cell_type": "code",
   "execution_count": 76,
   "id": "1e264888",
   "metadata": {},
   "outputs": [
    {
     "name": "stdout",
     "output_type": "stream",
     "text": [
      "Beggining\n",
      "<connection object at 0x000001FB77FA2460; dsn: 'user=postgres password=xxx dbname=CS623 host=localhost', closed: 0>\n",
      "PostgreSQL connection is now closed\n",
      "End\n"
     ]
    }
   ],
   "source": [
    "# start from scratch and drop all tables then function will execute\n",
    "drop_tables_cs_dbms = \"\"\"\"\"\"\"\"\"\n",
    "DROP TABLE IF EXISTS Stock;\n",
    "DROP TABLE IF EXISTS Depot;\n",
    "DROP TABLE IF EXISTS Product;\n",
    "\"\"\"\"\"\"\"\"\"\n",
    "\n",
    "acid_transactions([drop_tables_cs_dbms])"
   ]
  },
  {
   "cell_type": "code",
   "execution_count": 77,
   "id": "8e8ea8e6",
   "metadata": {},
   "outputs": [
    {
     "name": "stdout",
     "output_type": "stream",
     "text": [
      "Beggining\n",
      "<connection object at 0x000001FB77FA2460; dsn: 'user=postgres password=xxx dbname=CS623 host=localhost', closed: 0>\n",
      "PostgreSQL connection is now closed\n",
      "End\n"
     ]
    }
   ],
   "source": [
    "# create all product, depot, and stock tables then function will execute\n",
    "create_tables_cs_dbms = \"\"\"\"\"\"\"\"\"\n",
    "CREATE TABLE Product (\n",
    "    prodid VARCHAR(15),\n",
    "    pname VARCHAR(50),\n",
    "    price DECIMAL\n",
    "\n",
    ");\n",
    "\n",
    "\n",
    "CREATE TABLE Depot (\n",
    "    depid VARCHAR(20),\n",
    "    addr VARCHAR(50),\n",
    "    volume DECIMAL\n",
    "\n",
    "\n",
    ");\n",
    "\n",
    "\n",
    "CREATE TABLE Stock (\n",
    "    prodid VARCHAR(15),\n",
    "    depid VARCHAR(20),\n",
    "    quanity DECIMAL\n",
    "\n",
    ");\n",
    "\"\"\"\"\"\"\"\"\"\n",
    "\n",
    "acid_transactions([create_tables_cs_dbms])"
   ]
  },
  {
   "cell_type": "code",
   "execution_count": 78,
   "id": "b2092b6e",
   "metadata": {},
   "outputs": [
    {
     "name": "stdout",
     "output_type": "stream",
     "text": [
      "Beggining\n",
      "<connection object at 0x000001FB77FA2460; dsn: 'user=postgres password=xxx dbname=CS623 host=localhost', closed: 0>\n",
      "PostgreSQL connection is now closed\n",
      "End\n"
     ]
    }
   ],
   "source": [
    "# insert data into the tables then function will execute\n",
    "insert_data_stock_tables = \"\"\"\"\"\"\"\"\"\n",
    "\n",
    "INSERT INTO Product (prodid, pname, price)\n",
    "VALUES ('p1', 'tape',2.5),\n",
    "('p2', 'tv',250),\n",
    "('p3', 'vcr',80); \n",
    "\n",
    "INSERT INTO Depot (depid, addr, volume)\n",
    "VALUES ('d1', 'New York',9000),\n",
    "('d2', 'Syracuse',6000),\n",
    "('d4', 'New York',2000); \n",
    "\n",
    "\n",
    "INSERT INTO Stock (prodid, depid, quanity)\n",
    "VALUES ('p1', 'd1',1000),\n",
    "('p1', 'd2',-100),\n",
    "('p1', 'd4',1200),\n",
    "('p3', 'd1',3000),\n",
    "('p3', 'd4',2000),\n",
    "('p2', 'd4',1500),\n",
    "('p2', 'd1',-400),\n",
    "('p2', 'd2',2000);\n",
    "\"\"\"\"\"\"\"\"\"\n",
    "\n",
    "acid_transactions([insert_data_stock_tables])"
   ]
  },
  {
   "cell_type": "code",
   "execution_count": 79,
   "id": "2946ccac",
   "metadata": {},
   "outputs": [
    {
     "name": "stdout",
     "output_type": "stream",
     "text": [
      "Beggining\n",
      "<connection object at 0x000001FB77FA2460; dsn: 'user=postgres password=xxx dbname=CS623 host=localhost', closed: 0>\n",
      "PostgreSQL connection is now closed\n",
      "End\n"
     ]
    }
   ],
   "source": [
    "# add primary foreign keys to the tables to ensure user can control postgress\n",
    "alter_stock_tables = \"\"\"\"\"\"\"\"\"\n",
    "\n",
    "\n",
    "ALTER TABLE Product ADD\n",
    "CONSTRAINT pk_prodid PRIMARY KEY (prodid);\n",
    "\n",
    "ALTER TABLE Depot ADD\n",
    "CONSTRAINT pk_depid PRIMARY KEY (depid);\n",
    "\n",
    "ALTER TABLE Stock ADD\n",
    "CONSTRAINT pk_Stock PRIMARY KEY (prodid,depid);\n",
    "\n",
    "ALTER TABLE Stock \n",
    "ADD CONSTRAINT fk_Stock_prodid \n",
    "FOREIGN KEY (prodid) REFERENCES Product (prodid);\n",
    "\n",
    "ALTER TABLE Stock \n",
    "ADD CONSTRAINT fk_Stock_depid \n",
    "FOREIGN KEY (depid) REFERENCES Depot (depid);\n",
    "\"\"\"\"\"\"\"\"\"\n",
    "acid_transactions([alter_stock_tables])\n"
   ]
  },
  {
   "cell_type": "code",
   "execution_count": 80,
   "id": "4d1ba9b6",
   "metadata": {},
   "outputs": [
    {
     "name": "stdout",
     "output_type": "stream",
     "text": [
      "Beggining\n",
      "<connection object at 0x000001FB77FA2460; dsn: 'user=postgres password=xxx dbname=CS623 host=localhost', closed: 0>\n",
      "PostgreSQL connection is now closed\n",
      "End\n"
     ]
    }
   ],
   "source": [
    "# run acid transaction \"delete from stock and product where prodid is =  p1\"\n",
    "deletion_transaction = [\n",
    "\n",
    "    \n",
    "\"DELETE FROM Stock WHERE prodid = 'p1';\"\n",
    "    \n",
    "\"DELETE FROM Product WHERE prodid = 'p1';\"]\n",
    "\n",
    "\n",
    "acid_transactions(deletion_transaction)"
   ]
  },
  {
   "cell_type": "code",
   "execution_count": null,
   "id": "abe83742",
   "metadata": {},
   "outputs": [],
   "source": []
  },
  {
   "cell_type": "code",
   "execution_count": null,
   "id": "dda7f6d5",
   "metadata": {},
   "outputs": [],
   "source": []
  }
 ],
 "metadata": {
  "kernelspec": {
   "display_name": "Python 3 (ipykernel)",
   "language": "python",
   "name": "python3"
  },
  "language_info": {
   "codemirror_mode": {
    "name": "ipython",
    "version": 3
   },
   "file_extension": ".py",
   "mimetype": "text/x-python",
   "name": "python",
   "nbconvert_exporter": "python",
   "pygments_lexer": "ipython3",
   "version": "3.11.3"
  }
 },
 "nbformat": 4,
 "nbformat_minor": 5
}
